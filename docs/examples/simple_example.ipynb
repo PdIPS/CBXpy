{
 "cells": [
  {
   "cell_type": "markdown",
   "id": "b411f3ef-5a45-4da6-8f53-c6fad8ded0db",
   "metadata": {},
   "source": [
    "# A simple example showcasing CBX"
   ]
  },
  {
   "cell_type": "code",
   "execution_count": 1,
   "id": "d0af71a6-7c39-4ac2-88e1-15bdc1fe9022",
   "metadata": {},
   "outputs": [
    {
     "name": "stdout",
     "output_type": "stream",
     "text": [
      "The autoreload extension is already loaded. To reload it, use:\n",
      "  %reload_ext autoreload\n"
     ]
    }
   ],
   "source": [
    "%load_ext autoreload\n",
    "%autoreload 2\n",
    "import cbx as cbx\n",
    "from cbx.dynamics import CBO\n",
    "from cbx.objectives import Rastrigin\n",
    "import cbx.utils.termination as term\n",
    "from cbx.scheduler import effective_sample_size"
   ]
  },
  {
   "cell_type": "markdown",
   "id": "246b871a-bf02-4dd5-961c-60e7dbabcf03",
   "metadata": {},
   "source": [
    "# Define the parameters"
   ]
  },
  {
   "cell_type": "code",
   "execution_count": 2,
   "id": "3b24dcf3-d293-4921-a261-0e11d0292d27",
   "metadata": {},
   "outputs": [],
   "source": [
    "conf = {'alpha': 40.0,\n",
    "        'dt': 0.1,\n",
    "        'sigma': 1.,\n",
    "        'lamda': 1.0,\n",
    "        'batch_args':{\n",
    "        'batch_size':200,\n",
    "        'batch_partial': False},\n",
    "        'd': 2,\n",
    "        'term_criteria':[term.max_it_term(50)],\n",
    "        'N': 50,\n",
    "        'M': 3,\n",
    "        'track_args': {'names':\n",
    "                       ['update_norm', \n",
    "                        'energy','x', \n",
    "                        'consensus', \n",
    "                        'drift']},}"
   ]
  },
  {
   "cell_type": "markdown",
   "id": "b046058e-7ff3-454d-be0b-60dba7695bcc",
   "metadata": {},
   "source": [
    "# Define the initial positions of the particles and objective function"
   ]
  },
  {
   "cell_type": "code",
   "execution_count": 3,
   "id": "00e42335-26ef-414b-8d77-31508992339e",
   "metadata": {},
   "outputs": [],
   "source": [
    "x = cbx.utils.init_particles(shape=(conf['M'], conf['N'], conf['d']), x_min=-2., x_max = 1.)\n",
    "f = Rastrigin()"
   ]
  },
  {
   "cell_type": "markdown",
   "id": "77e1cb2e-d826-46a8-8af6-052557ccd8e9",
   "metadata": {},
   "source": [
    "# Define the dynamic and scheduler"
   ]
  },
  {
   "cell_type": "code",
   "execution_count": 4,
   "id": "f702e23d-7e47-45bd-a467-9e606161c6e0",
   "metadata": {},
   "outputs": [],
   "source": [
    "dyn = CBO(f, x=x, noise='isotropic', f_dim='3D', \n",
    "          **conf)\n",
    "sched = effective_sample_size(name='alpha', eta = 0.1)"
   ]
  },
  {
   "cell_type": "markdown",
   "id": "a064a8b1-cbb6-4216-b675-afafb7e508bc",
   "metadata": {},
   "source": [
    "# Run the CBO algorithm"
   ]
  },
  {
   "cell_type": "code",
   "execution_count": 5,
   "id": "10a967a8-12c3-40a9-aee1-85a89772b629",
   "metadata": {
    "scrolled": true,
    "tags": []
   },
   "outputs": [
    {
     "name": "stdout",
     "output_type": "stream",
     "text": [
      "....................\n",
      "Starting Optimization with dynamic: CBO\n",
      "....................\n",
      "Time: 0.100, best current energy: [ 33.68654168 120.71036047  62.80683578]\n",
      "Number of function evaluations: [100 100 100]\n",
      "Time: 0.200, best current energy: [28.58152131 81.26971772 34.44364278]\n",
      "Number of function evaluations: [150 150 150]\n",
      "Time: 0.300, best current energy: [28.62646872 67.2817824  34.44364278]\n",
      "Number of function evaluations: [200 200 200]\n",
      "Time: 0.400, best current energy: [17.48615705 49.59452258 34.44364278]\n",
      "Number of function evaluations: [250 250 250]\n",
      "Time: 0.500, best current energy: [17.48616666 19.10682227 13.33378508]\n",
      "Number of function evaluations: [300 300 300]\n",
      "Time: 0.600, best current energy: [17.49727879  0.90316275  3.90712534]\n",
      "Number of function evaluations: [350 350 350]\n",
      "Time: 0.700, best current energy: [17.49727879  0.90316275  3.90712154]\n",
      "Number of function evaluations: [400 400 400]\n",
      "Time: 0.800, best current energy: [13.74853011  0.90316275  2.54385584]\n",
      "Number of function evaluations: [450 450 450]\n",
      "Time: 0.900, best current energy: [13.7896205   0.90316275  2.66192072]\n",
      "Number of function evaluations: [500 500 500]\n",
      "Time: 1.000, best current energy: [9.56378915 0.85071259 2.53878036]\n",
      "Number of function evaluations: [550 550 550]\n",
      "Time: 1.100, best current energy: [1.65695363 0.84499308 1.79225608]\n",
      "Number of function evaluations: [600 600 600]\n",
      "Time: 1.200, best current energy: [0.30609722 0.84500232 1.79423101]\n",
      "Number of function evaluations: [650 650 650]\n",
      "Time: 1.300, best current energy: [0.34922258 0.44816694 1.79431591]\n",
      "Number of function evaluations: [700 700 700]\n",
      "Time: 1.400, best current energy: [0.36915171 0.27820948 1.79484459]\n",
      "Number of function evaluations: [750 750 750]\n",
      "Time: 1.500, best current energy: [0.36017227 0.21050182 1.76474269]\n",
      "Number of function evaluations: [800 800 800]\n",
      "Time: 1.600, best current energy: [0.21274971 0.23505038 1.72918115]\n",
      "Number of function evaluations: [850 850 850]\n",
      "Time: 1.700, best current energy: [0.12348101 0.21199976 1.75816384]\n",
      "Number of function evaluations: [900 900 900]\n",
      "Time: 1.800, best current energy: [0.05143352 0.30367209 1.94523642]\n",
      "Number of function evaluations: [950 950 950]\n",
      "Time: 1.900, best current energy: [0.0540006  0.35056549 1.72136138]\n",
      "Number of function evaluations: [1000 1000 1000]\n",
      "Time: 2.000, best current energy: [0.06110012 0.38862823 0.81879727]\n",
      "Number of function evaluations: [1050 1050 1050]\n",
      "Time: 2.100, best current energy: [0.11740263 0.3865363  0.82657734]\n",
      "Number of function evaluations: [1100 1100 1100]\n",
      "Time: 2.200, best current energy: [0.11257089 0.39789684 0.80443249]\n",
      "Number of function evaluations: [1150 1150 1150]\n",
      "Time: 2.300, best current energy: [0.16063367 0.35253543 0.42259068]\n",
      "Number of function evaluations: [1200 1200 1200]\n",
      "Time: 2.400, best current energy: [0.00862797 0.36359695 0.20873996]\n",
      "Number of function evaluations: [1250 1250 1250]\n",
      "Time: 2.500, best current energy: [0.00547368 0.31876961 0.22591405]\n",
      "Number of function evaluations: [1300 1300 1300]\n",
      "Time: 2.600, best current energy: [0.01746446 0.33732993 0.22473574]\n",
      "Number of function evaluations: [1350 1350 1350]\n",
      "Time: 2.700, best current energy: [0.1102633  0.08918512 0.07924495]\n",
      "Number of function evaluations: [1400 1400 1400]\n",
      "Time: 2.800, best current energy: [0.12797242 0.05583967 0.03559821]\n",
      "Number of function evaluations: [1450 1450 1450]\n",
      "Time: 2.900, best current energy: [0.1343424  0.0026892  0.02978487]\n",
      "Number of function evaluations: [1500 1500 1500]\n",
      "Time: 3.000, best current energy: [0.14289871 0.00705355 0.03382854]\n",
      "Number of function evaluations: [1550 1550 1550]\n",
      "Time: 3.100, best current energy: [0.04305495 0.00800484 0.04023679]\n",
      "Number of function evaluations: [1600 1600 1600]\n",
      "Time: 3.200, best current energy: [0.04527542 0.00193493 0.02004014]\n",
      "Number of function evaluations: [1650 1650 1650]\n",
      "Time: 3.300, best current energy: [5.71784399e-02 1.97961671e-05 8.34815345e-03]\n",
      "Number of function evaluations: [1700 1700 1700]\n",
      "Time: 3.400, best current energy: [0.04809217 0.00035915 0.00896287]\n",
      "Number of function evaluations: [1750 1750 1750]\n",
      "Time: 3.500, best current energy: [0.04800839 0.00152849 0.00664716]\n",
      "Number of function evaluations: [1800 1800 1800]\n",
      "Time: 3.600, best current energy: [0.04956155 0.00454781 0.00418105]\n",
      "Number of function evaluations: [1850 1850 1850]\n",
      "Time: 3.700, best current energy: [0.04051642 0.00135038 0.00292033]\n",
      "Number of function evaluations: [1900 1900 1900]\n",
      "Time: 3.800, best current energy: [0.05082993 0.00160846 0.00114098]\n",
      "Number of function evaluations: [1950 1950 1950]\n",
      "Time: 3.900, best current energy: [0.03143296 0.00183167 0.00097155]\n",
      "Number of function evaluations: [2000 2000 2000]\n",
      "Time: 4.000, best current energy: [0.0251956  0.00222968 0.00049768]\n",
      "Number of function evaluations: [2050 2050 2050]\n",
      "Time: 4.100, best current energy: [0.01983502 0.00140792 0.0002946 ]\n",
      "Number of function evaluations: [2100 2100 2100]\n",
      "Time: 4.200, best current energy: [0.01510383 0.00176546 0.00016745]\n",
      "Number of function evaluations: [2150 2150 2150]\n",
      "Time: 4.300, best current energy: [1.11427167e-02 2.21863881e-03 8.64473601e-05]\n",
      "Number of function evaluations: [2200 2200 2200]\n",
      "Time: 4.400, best current energy: [1.15549719e-02 2.20430974e-03 9.07954948e-05]\n",
      "Number of function evaluations: [2250 2250 2250]\n",
      "Time: 4.500, best current energy: [8.89131640e-03 2.07031884e-03 6.34935288e-05]\n",
      "Number of function evaluations: [2300 2300 2300]\n",
      "Time: 4.600, best current energy: [7.57794167e-03 2.08297333e-03 6.07676724e-05]\n",
      "Number of function evaluations: [2350 2350 2350]\n",
      "Time: 4.700, best current energy: [7.38504044e-03 6.04711827e-04 5.48703731e-05]\n",
      "Number of function evaluations: [2400 2400 2400]\n",
      "Time: 4.800, best current energy: [6.28198373e-03 4.49847058e-04 5.19042330e-05]\n",
      "Number of function evaluations: [2450 2450 2450]\n",
      "Time: 4.900, best current energy: [1.70746592e-05 3.49771414e-04 4.73239729e-05]\n",
      "Number of function evaluations: [2500 2500 2500]\n",
      "Time: 5.000, best current energy: [2.97989245e-05 1.99295912e-04 3.17562532e-05]\n",
      "Number of function evaluations: [2550 2550 2550]\n",
      "--------------------\n",
      "Finished solver.\n",
      "Best energy: [1.70746592e-05 1.97961671e-05 3.17562532e-05]\n",
      "--------------------\n"
     ]
    },
    {
     "data": {
      "text/plain": [
       "array([[-6.48890754e-05,  9.62647790e-06],\n",
       "       [-5.99651486e-05,  3.73273810e-05],\n",
       "       [-4.80953108e-05,  7.54337349e-05]])"
      ]
     },
     "execution_count": 5,
     "metadata": {},
     "output_type": "execute_result"
    }
   ],
   "source": [
    "dyn.optimize(sched=sched)"
   ]
  }
 ],
 "metadata": {
  "kernelspec": {
   "display_name": "Python 3",
   "language": "python",
   "name": "python3"
  },
  "language_info": {
   "codemirror_mode": {
    "name": "ipython",
    "version": 3
   },
   "file_extension": ".py",
   "mimetype": "text/x-python",
   "name": "python",
   "nbconvert_exporter": "python",
   "pygments_lexer": "ipython3",
   "version": "3.12.4"
  }
 },
 "nbformat": 4,
 "nbformat_minor": 5
}
