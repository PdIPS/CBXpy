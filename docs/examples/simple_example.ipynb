{
 "cells": [
  {
   "cell_type": "markdown",
   "id": "b411f3ef-5a45-4da6-8f53-c6fad8ded0db",
   "metadata": {},
   "source": [
    "# A simple example showcasing CBX"
   ]
  },
  {
   "cell_type": "code",
   "execution_count": 1,
   "id": "d0af71a6-7c39-4ac2-88e1-15bdc1fe9022",
   "metadata": {},
   "outputs": [],
   "source": [
    "%load_ext autoreload\n",
    "%autoreload 2\n",
    "import numpy as np\n",
    "import cbx as cbx\n",
    "from cbx.dynamics import CBO\n",
    "from cbx.objectives import Rastrigin\n",
    "import cbx.utils.termination as term\n",
    "from cbx.scheduler import effective_sample_size\n",
    "from cbx.plotting import PlotDynamic, PlotDynamicHistory\n",
    "import matplotlib.pyplot as plt"
   ]
  },
  {
   "cell_type": "markdown",
   "id": "246b871a-bf02-4dd5-961c-60e7dbabcf03",
   "metadata": {},
   "source": [
    "# Define the parameters"
   ]
  },
  {
   "cell_type": "code",
   "execution_count": 2,
   "id": "3b24dcf3-d293-4921-a261-0e11d0292d27",
   "metadata": {},
   "outputs": [],
   "source": [
    "conf = {'alpha': 40.0,\n",
    "        'dt': 0.1,\n",
    "        'sigma': 1.,\n",
    "        'lamda': 1.0,\n",
    "        'batch_args':{\n",
    "        'batch_size':200,\n",
    "        'batch_partial': False},\n",
    "        'd': 2,\n",
    "        'term_criteria':[term.max_it_term(50)],\n",
    "        'N': 50,\n",
    "        'M': 3,\n",
    "        'track_args': {'names':\n",
    "                       ['update_norm', \n",
    "                        'energy','x', \n",
    "                        'consensus', \n",
    "                        'drift']},}"
   ]
  },
  {
   "cell_type": "markdown",
   "id": "b046058e-7ff3-454d-be0b-60dba7695bcc",
   "metadata": {},
   "source": [
    "# Define the initial positions of the particles and objective function"
   ]
  },
  {
   "cell_type": "code",
   "execution_count": 3,
   "id": "00e42335-26ef-414b-8d77-31508992339e",
   "metadata": {},
   "outputs": [],
   "source": [
    "x = cbx.utils.init_particles(shape=(conf['M'], conf['N'], conf['d']), x_min=-2., x_max = 1.)\n",
    "f = Rastrigin()"
   ]
  },
  {
   "cell_type": "markdown",
   "id": "77e1cb2e-d826-46a8-8af6-052557ccd8e9",
   "metadata": {},
   "source": [
    "# Define the dynamic and scheduler"
   ]
  },
  {
   "cell_type": "code",
   "execution_count": 4,
   "id": "f702e23d-7e47-45bd-a467-9e606161c6e0",
   "metadata": {},
   "outputs": [],
   "source": [
    "dyn = CBO(f, x=x, noise='isotropic', f_dim='3D', \n",
    "          **conf)\n",
    "sched = effective_sample_size(name='alpha', eta = 0.1)"
   ]
  },
  {
   "cell_type": "markdown",
   "id": "a064a8b1-cbb6-4216-b675-afafb7e508bc",
   "metadata": {},
   "source": [
    "# Run the CBO algorithm"
   ]
  },
  {
   "cell_type": "code",
   "execution_count": 5,
   "id": "10a967a8-12c3-40a9-aee1-85a89772b629",
   "metadata": {
    "scrolled": true,
    "tags": []
   },
   "outputs": [
    {
     "name": "stdout",
     "output_type": "stream",
     "text": [
      "....................\n",
      "Starting Optimization with dynamic: CBO\n",
      "....................\n",
      "Time: 0.100, best current energy: [2.10728028 1.68145616 0.92877995]\n",
      "Number of function evaluations: [100 100 100]\n",
      "Time: 0.200, best current energy: [2.1072803  1.68145616 0.57636751]\n",
      "Number of function evaluations: [150 150 150]\n",
      "Time: 0.300, best current energy: [0.55000508 2.49765877 0.68428254]\n",
      "Number of function evaluations: [200 200 200]\n",
      "Time: 0.400, best current energy: [2.93161469 1.24078108 0.52285577]\n",
      "Number of function evaluations: [250 250 250]\n",
      "Time: 0.500, best current energy: [2.19189439 0.97838215 0.16987223]\n",
      "Number of function evaluations: [300 300 300]\n",
      "Time: 0.600, best current energy: [1.90644815 0.12684903 0.16728478]\n",
      "Number of function evaluations: [350 350 350]\n",
      "Time: 0.700, best current energy: [1.50849157 0.60885209 0.04007012]\n",
      "Number of function evaluations: [400 400 400]\n",
      "Time: 0.800, best current energy: [1.62380939 0.57815352 0.13136389]\n",
      "Number of function evaluations: [450 450 450]\n",
      "Time: 0.900, best current energy: [0.85028742 0.58052368 0.09953298]\n",
      "Number of function evaluations: [500 500 500]\n",
      "Time: 1.000, best current energy: [0.64257783 0.50575968 0.12150737]\n",
      "Number of function evaluations: [550 550 550]\n",
      "Time: 1.100, best current energy: [0.57580291 0.65584654 0.10666838]\n",
      "Number of function evaluations: [600 600 600]\n",
      "Time: 1.200, best current energy: [0.5935343  0.1925321  0.07133592]\n",
      "Number of function evaluations: [650 650 650]\n",
      "Time: 1.300, best current energy: [0.55452856 1.20928295 0.04659363]\n",
      "Number of function evaluations: [700 700 700]\n",
      "Time: 1.400, best current energy: [0.56421215 0.83780074 0.01406781]\n",
      "Number of function evaluations: [750 750 750]\n",
      "Time: 1.500, best current energy: [0.5255436  2.55619448 0.01974727]\n",
      "Number of function evaluations: [800 800 800]\n",
      "Time: 1.600, best current energy: [0.52364442 0.62477745 0.02278225]\n",
      "Number of function evaluations: [850 850 850]\n",
      "Time: 1.700, best current energy: [0.51697226 0.96537748 0.01041394]\n",
      "Number of function evaluations: [900 900 900]\n",
      "Time: 1.800, best current energy: [0.51266992 0.37245914 0.01693294]\n",
      "Number of function evaluations: [950 950 950]\n",
      "Time: 1.900, best current energy: [0.51530507 0.53648703 0.01901084]\n",
      "Number of function evaluations: [1000 1000 1000]\n",
      "Time: 2.000, best current energy: [0.50449304 0.26041874 0.00633124]\n",
      "Number of function evaluations: [1050 1050 1050]\n",
      "Time: 2.100, best current energy: [0.51158633 0.54768126 0.00146276]\n",
      "Number of function evaluations: [1100 1100 1100]\n",
      "Time: 2.200, best current energy: [5.13225331e-01 1.26269499e+00 1.00674706e-03]\n",
      "Number of function evaluations: [1150 1150 1150]\n",
      "Time: 2.300, best current energy: [0.49880067 0.48324461 0.00107633]\n",
      "Number of function evaluations: [1200 1200 1200]\n",
      "Time: 2.400, best current energy: [4.98636933e-01 6.06953012e-01 4.81971833e-04]\n",
      "Number of function evaluations: [1250 1250 1250]\n",
      "Time: 2.500, best current energy: [0.49799101 0.05491827 0.00087976]\n",
      "Number of function evaluations: [1300 1300 1300]\n",
      "Time: 2.600, best current energy: [0.4982109  0.01987652 0.00075446]\n",
      "Number of function evaluations: [1350 1350 1350]\n",
      "Time: 2.700, best current energy: [0.49928476 0.04195144 0.0008332 ]\n",
      "Number of function evaluations: [1400 1400 1400]\n",
      "Time: 2.800, best current energy: [0.5003882  0.01701535 0.00189142]\n",
      "Number of function evaluations: [1450 1450 1450]\n",
      "Time: 2.900, best current energy: [0.50013738 0.00069177 0.00147836]\n",
      "Number of function evaluations: [1500 1500 1500]\n",
      "Time: 3.000, best current energy: [0.50000206 0.00449216 0.00056654]\n",
      "Number of function evaluations: [1550 1550 1550]\n",
      "Time: 3.100, best current energy: [5.00565479e-01 2.44939721e-03 3.89874558e-04]\n",
      "Number of function evaluations: [1600 1600 1600]\n",
      "Time: 3.200, best current energy: [5.00350626e-01 6.21330092e-03 3.87040028e-04]\n",
      "Number of function evaluations: [1650 1650 1650]\n",
      "Time: 3.300, best current energy: [5.00789392e-01 1.93103230e-04 4.21350213e-04]\n",
      "Number of function evaluations: [1700 1700 1700]\n",
      "Time: 3.400, best current energy: [5.00647569e-01 5.55668933e-03 1.77610408e-04]\n",
      "Number of function evaluations: [1750 1750 1750]\n",
      "Time: 3.500, best current energy: [5.00713171e-01 4.04843583e-03 8.89686642e-05]\n",
      "Number of function evaluations: [1800 1800 1800]\n",
      "Time: 3.600, best current energy: [5.00645901e-01 7.98890722e-04 1.05713129e-04]\n",
      "Number of function evaluations: [1850 1850 1850]\n",
      "Time: 3.700, best current energy: [4.99507554e-01 1.27657403e-03 4.52106053e-05]\n",
      "Number of function evaluations: [1900 1900 1900]\n",
      "Time: 3.800, best current energy: [4.98027308e-01 1.23108920e-03 6.64849974e-05]\n",
      "Number of function evaluations: [1950 1950 1950]\n",
      "Time: 3.900, best current energy: [4.97649256e-01 1.10691742e-03 6.84390663e-05]\n",
      "Number of function evaluations: [2000 2000 2000]\n",
      "Time: 4.000, best current energy: [4.97649541e-01 1.08606304e-03 3.36084149e-05]\n",
      "Number of function evaluations: [2050 2050 2050]\n",
      "Time: 4.100, best current energy: [4.98019925e-01 1.32485216e-03 6.30259613e-05]\n",
      "Number of function evaluations: [2100 2100 2100]\n",
      "Time: 4.200, best current energy: [4.98017696e-01 1.51359169e-04 4.55994961e-05]\n",
      "Number of function evaluations: [2150 2150 2150]\n",
      "Time: 4.300, best current energy: [4.97629423e-01 2.22198082e-03 5.31200963e-05]\n",
      "Number of function evaluations: [2200 2200 2200]\n",
      "Time: 4.400, best current energy: [4.97657896e-01 3.03447538e-04 3.85596540e-05]\n",
      "Number of function evaluations: [2250 2250 2250]\n",
      "Time: 4.500, best current energy: [4.97627081e-01 3.52225753e-04 1.17851562e-05]\n",
      "Number of function evaluations: [2300 2300 2300]\n",
      "Time: 4.600, best current energy: [4.97585318e-01 5.86562521e-04 2.86085942e-06]\n",
      "Number of function evaluations: [2350 2350 2350]\n",
      "Time: 4.700, best current energy: [4.97591428e-01 3.78793444e-04 6.42332258e-06]\n",
      "Number of function evaluations: [2400 2400 2400]\n",
      "Time: 4.800, best current energy: [4.97592690e-01 3.78723903e-04 1.24458001e-05]\n",
      "Number of function evaluations: [2450 2450 2450]\n",
      "Time: 4.900, best current energy: [4.97583613e-01 4.72292538e-04 1.19828597e-05]\n",
      "Number of function evaluations: [2500 2500 2500]\n",
      "Time: 5.000, best current energy: [4.97579891e-01 3.97040696e-04 1.31404737e-05]\n",
      "Number of function evaluations: [2550 2550 2550]\n",
      "--------------------\n",
      "Finished solver.\n",
      "Best energy: [4.97579891e-01 1.51359169e-04 2.86085942e-06]\n",
      "--------------------\n"
     ]
    },
    {
     "data": {
      "text/plain": [
       "array([[-8.70132041e-04, -9.94453891e-01],\n",
       "       [-5.17475219e-04, -1.12164332e-03],\n",
       "       [-1.62122148e-04,  5.05655033e-05]])"
      ]
     },
     "execution_count": 5,
     "metadata": {},
     "output_type": "execute_result"
    }
   ],
   "source": [
    "dyn.optimize(sched=sched)"
   ]
  }
 ],
 "metadata": {
  "kernelspec": {
   "display_name": "Python 3 (ipykernel)",
   "language": "python",
   "name": "python3"
  },
  "language_info": {
   "codemirror_mode": {
    "name": "ipython",
    "version": 3
   },
   "file_extension": ".py",
   "mimetype": "text/x-python",
   "name": "python",
   "nbconvert_exporter": "python",
   "pygments_lexer": "ipython3",
   "version": "3.12.3"
  }
 },
 "nbformat": 4,
 "nbformat_minor": 5
}
