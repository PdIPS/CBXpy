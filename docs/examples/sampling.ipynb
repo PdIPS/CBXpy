{
 "cells": [
  {
   "cell_type": "markdown",
   "id": "c5befff4-2454-4e4d-989b-df4896d92c7a",
   "metadata": {},
   "source": [
    "# Consensus Based Sampling"
   ]
  },
  {
   "cell_type": "code",
   "execution_count": null,
   "id": "4be3d815-ec76-4499-98a5-062e6428796a",
   "metadata": {},
   "outputs": [],
   "source": [
    "%load_ext autoreload\n",
    "%autoreload 2\n",
    "from cbx.dynamics import CBS\n",
    "from cbx.objectives import Quadratic\n",
    "from cbx.plotting import PlotDynamicHistory\n",
    "f = Quadratic()\n",
    "dyn = CBS(f, d=5, M=3, max_it=1000, track_args={'names':['x']}, alpha=0.5)\n",
    "dyn.run()"
   ]
  },
  {
   "cell_type": "code",
   "execution_count": null,
   "id": "8f58f099-28ca-4365-9670-2e062fc3b878",
   "metadata": {},
   "outputs": [],
   "source": [
    "import matplotlib.pyplot as plt\n",
    "from IPython import display\n",
    "\n",
    "fig, ax = plt.subplots(1,)\n",
    "pl = PlotDynamicHistory(dyn, ax=ax,objective_args={'x_min':-3, 'x_max':3},)\n",
    "for i in range(0, pl.max_it,1):\n",
    "    pl.plot_at_ind(i)\n",
    "    pl.decorate_at_ind(i)\n",
    "    display.display(fig)\n",
    "    display.clear_output(wait=True)\n",
    "    plt.pause(0.1)"
   ]
  }
 ],
 "metadata": {
  "kernelspec": {
   "display_name": "Python 3 (ipykernel)",
   "language": "python",
   "name": "python3"
  },
  "language_info": {
   "codemirror_mode": {
    "name": "ipython",
    "version": 3
   },
   "file_extension": ".py",
   "mimetype": "text/x-python",
   "name": "python",
   "nbconvert_exporter": "python",
   "pygments_lexer": "ipython3",
   "version": "3.12.3"
  }
 },
 "nbformat": 4,
 "nbformat_minor": 5
}
