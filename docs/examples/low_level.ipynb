{
 "cells": [
  {
   "cell_type": "markdown",
   "id": "ce7c4dc3-e701-4113-b4f9-ad961e204e20",
   "metadata": {},
   "source": [
    "# Visualiszing CBX dynamics"
   ]
  },
  {
   "cell_type": "code",
   "execution_count": null,
   "id": "1ce71f14-a97a-475a-b027-324bc5864f09",
   "metadata": {},
   "outputs": [],
   "source": [
    "%load_ext autoreload\n",
    "%autoreload 2\n",
    "import numpy as np\n",
    "import cbx as cbx\n",
    "from cbx.dynamics import CBO, CBS\n",
    "from cbx.objectives import Rastrigin\n",
    "from cbx.utils.objective_handling import cbx_objective_fh\n",
    "from cbx.scheduler import effective_sample_size, scheduler\n",
    "from cbx.plotting import PlotDynamic, PlotDynamicHistory"
   ]
  },
  {
   "cell_type": "code",
   "execution_count": null,
   "id": "dc027d54-35fc-44c8-bbc1-f6f8655a3863",
   "metadata": {},
   "outputs": [],
   "source": [
    "np.random.seed(420)\n",
    "conf = {'alpha': 40.0,\n",
    "        'dt': 0.1,\n",
    "        'sigma': 1.,#8,#5.1,#8.0,\n",
    "        'lamda': 1.0,\n",
    "        'batch_args':{\n",
    "        'batch_size':200,\n",
    "        'batch_partial': False},\n",
    "        'd': 2,\n",
    "        'max_it': 500,\n",
    "        'N': 50,\n",
    "        'M': 3,\n",
    "        'track_args': {'names':\n",
    "                       ['update_norm', \n",
    "                        'energy','x', \n",
    "                        'consensus', \n",
    "                        'drift']}\n",
    "       }"
   ]
  },
  {
   "cell_type": "markdown",
   "id": "abd823be-8498-42c1-aad4-2b7fda0f5adf",
   "metadata": {},
   "source": [
    "## Using the plotting functions"
   ]
  },
  {
   "cell_type": "code",
   "execution_count": null,
   "id": "b33670f7-14a3-4176-b014-1545b249dbf8",
   "metadata": {},
   "outputs": [],
   "source": [
    "import matplotlib.pyplot as plt\n",
    "from IPython import display\n",
    "\n",
    "fig, ax = plt.subplots(1,2, figsize=(15,5))\n",
    "\n",
    "f = Rastrigin()\n",
    "x = cbx.utils.init_particles(shape=(conf['M'], conf['N'], conf['d']), x_min=-3., x_max = -1.) # Define the initial positions of the particles\n",
    "\n",
    "\n",
    "dyn = CBO(f, x=x, noise='isotropic', f_dim='3D', **conf) # Define the CBO algorithm\n",
    "sched = effective_sample_size(maximum=1e12)\n",
    "plotter = PlotDynamic(dyn, ax=ax[0],\n",
    "                       objective_args={'x_min':-3, 'x_max':3},\n",
    "                       plot_consensus=True,\n",
    "                       plot_drift=True)\n",
    "plotter.init_plot()\n",
    "while not dyn.terminate():\n",
    "    dyn.step()\n",
    "    sched.update(dyn)\n",
    "    # update energy plot\n",
    "    ax[1].clear()\n",
    "    ax[1].plot([e[0] for e in dyn.history['energy'][-30:]])\n",
    "    ax[1].set_title('Energy of the last 30 iterations') \n",
    "    ax[0].set_title('Iteration: ' + str(dyn.it)) \n",
    "    plotter.update(wait=0.2)\n",
    "    display.display(fig)\n",
    "    display.clear_output(wait=True)\n",
    "    "
   ]
  },
  {
   "cell_type": "code",
   "execution_count": null,
   "id": "68fc7a07-cb08-4177-9328-1354ecf0150d",
   "metadata": {},
   "outputs": [],
   "source": [
    "# import matplotlib.pyplot as plt\n",
    "# plt.close('all')\n",
    "# plotter = PlotDynamicHistory(\n",
    "#             dyn, dims=[0,1], \n",
    "#             objective_args={'x_min':-3, 'x_max':3, 'cmap':'viridis',\n",
    "#                             'num_pts':300},\n",
    "#             particle_args = {'s':50, 'c':'xkcd:sky', 'marker':'o'},\n",
    "#             drift_args = {'color':'pink', 'width':0.003},\n",
    "#             plot_consensus=True,\n",
    "#             plot_drift=True)\n",
    "# plotter.run_plots(wait=0.5, freq=1,)"
   ]
  }
 ],
 "metadata": {
  "kernelspec": {
   "display_name": "Python 3 (ipykernel)",
   "language": "python",
   "name": "python3"
  },
  "language_info": {
   "codemirror_mode": {
    "name": "ipython",
    "version": 3
   },
   "file_extension": ".py",
   "mimetype": "text/x-python",
   "name": "python",
   "nbconvert_exporter": "python",
   "pygments_lexer": "ipython3",
   "version": "3.12.3"
  }
 },
 "nbformat": 4,
 "nbformat_minor": 5
}
