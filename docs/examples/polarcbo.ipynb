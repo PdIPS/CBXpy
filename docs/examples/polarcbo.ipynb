{
 "cells": [
  {
   "cell_type": "markdown",
   "id": "029b6ded-cd4f-499e-af73-5e025cf866a7",
   "metadata": {},
   "source": [
    "# Polarized CBO"
   ]
  },
  {
   "cell_type": "code",
   "execution_count": null,
   "id": "3b5bb14e-7c2c-49d3-89f7-41c4a08722f1",
   "metadata": {},
   "outputs": [],
   "source": [
    "%load_ext autoreload\n",
    "%autoreload 2\n",
    "from cbx.objectives import snowflake\n",
    "from cbx.dynamics import PolarCBO\n",
    "from cbx.plotting import PlotDynamicHistory\n",
    "from cbx.scheduler import multiply\n",
    "import matplotlib.pyplot as plt\n",
    "import numpy as np\n",
    "#%%\n",
    "np.random.seed(42)\n",
    "f = snowflake()\n",
    "N = 100\n",
    "x = np.random.uniform(-2., 2., (2,N,2))\n",
    "\n",
    "dyn = PolarCBO(f, d=2,\n",
    "          x=x,\n",
    "          alpha=1.,\n",
    "          #noise='anisotropic',\n",
    "          sigma=2.,\n",
    "          kappa=1.5,\n",
    "          verbosity=0,\n",
    "          track_args={'names':[\n",
    "            'x', \n",
    "            'consensus', \n",
    "            'drift']},\n",
    "          batch_args={'size':50})\n",
    "dyn.optimize(sched = multiply(factor=1.02, maximum=1e10))"
   ]
  },
  {
   "cell_type": "code",
   "execution_count": null,
   "id": "e7191d28-636a-441c-b6a3-cf8b9ba19956",
   "metadata": {},
   "outputs": [],
   "source": [
    "import matplotlib.pyplot as plt\n",
    "from IPython import display\n",
    "\n",
    "fig, ax = plt.subplots(1,)\n",
    "pl = PlotDynamicHistory(\n",
    "    dyn, ax=ax,\n",
    "    objective_args={'x_min':-2, 'x_max':2, 'cmap':'Blues'},\n",
    "    plot_consensus=True,\n",
    "    plot_drift=True\n",
    ")\n",
    "for i in range(0, pl.max_it,10):\n",
    "    pl.plot_at_ind(i)\n",
    "    pl.decorate_at_ind(i)\n",
    "    display.display(fig)\n",
    "    display.clear_output(wait=True)\n",
    "    plt.pause(0.1)"
   ]
  }
 ],
 "metadata": {
  "kernelspec": {
   "display_name": "Python 3 (ipykernel)",
   "language": "python",
   "name": "python3"
  },
  "language_info": {
   "codemirror_mode": {
    "name": "ipython",
    "version": 3
   },
   "file_extension": ".py",
   "mimetype": "text/x-python",
   "name": "python",
   "nbconvert_exporter": "python",
   "pygments_lexer": "ipython3",
   "version": "3.12.3"
  }
 },
 "nbformat": 4,
 "nbformat_minor": 5
}
