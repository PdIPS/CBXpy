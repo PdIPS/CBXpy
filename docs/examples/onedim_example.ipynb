{
 "cells": [
  {
   "cell_type": "markdown",
   "id": "2e024184-96d6-4bb5-8dcc-e82d5544bfec",
   "metadata": {},
   "source": [
    "# 1D Example"
   ]
  },
  {
   "cell_type": "code",
   "execution_count": null,
   "id": "b8087e16-1d3d-4ed3-a672-3fc9e390935a",
   "metadata": {},
   "outputs": [],
   "source": [
    "import numpy as np\n",
    "import cbx\n",
    "import matplotlib.pyplot as plt\n",
    "\n",
    "#%% define the objective function and solve\n",
    "def f(x):\n",
    "    return np.abs(np.sin(x)) + np.abs(x)**(3/4) * (np.sin(x)+1) - 0.5*(np.abs(x)>1)\n",
    "dyn = cbx.dynamics.CBO(f, d=1, verbosity=0)\n",
    "x = dyn.optimize()\n",
    "\n",
    "#%% visualize\n",
    "plt.close('all')\n",
    "s = np.linspace(-4,4,1000)\n",
    "plt.plot(s, f(s), linewidth=3, color='xkcd:sky', label='Objective', zorder=-1)\n",
    "plt.scatter(x, f(x), label='Solution', c='green', s=50, marker='x')\n",
    "plt.xlim([-4,4])\n",
    "plt.legend()"
   ]
  }
 ],
 "metadata": {
  "kernelspec": {
   "display_name": "Python 3 (ipykernel)",
   "language": "python",
   "name": "python3"
  },
  "language_info": {
   "codemirror_mode": {
    "name": "ipython",
    "version": 3
   },
   "file_extension": ".py",
   "mimetype": "text/x-python",
   "name": "python",
   "nbconvert_exporter": "python",
   "pygments_lexer": "ipython3",
   "version": "3.12.3"
  }
 },
 "nbformat": 4,
 "nbformat_minor": 5
}
